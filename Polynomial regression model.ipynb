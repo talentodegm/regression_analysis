{
 "cells": [
  {
   "cell_type": "markdown",
   "metadata": {},
   "source": [
    "# Polynomial Regression Model"
   ]
  },
  {
   "cell_type": "code",
   "execution_count": 1,
   "metadata": {},
   "outputs": [],
   "source": [
    "import pandas as pd\n",
    "import numpy as np"
   ]
  },
  {
   "cell_type": "code",
   "execution_count": 2,
   "metadata": {},
   "outputs": [],
   "source": [
    "%matplotlib inline\n",
    "\n",
    "import matplotlib.pyplot as plt"
   ]
  },
  {
   "cell_type": "code",
   "execution_count": 3,
   "metadata": {},
   "outputs": [
    {
     "data": {
      "text/html": [
       "<div>\n",
       "<style scoped>\n",
       "    .dataframe tbody tr th:only-of-type {\n",
       "        vertical-align: middle;\n",
       "    }\n",
       "\n",
       "    .dataframe tbody tr th {\n",
       "        vertical-align: top;\n",
       "    }\n",
       "\n",
       "    .dataframe thead th {\n",
       "        text-align: right;\n",
       "    }\n",
       "</style>\n",
       "<table border=\"1\" class=\"dataframe\">\n",
       "  <thead>\n",
       "    <tr style=\"text-align: right;\">\n",
       "      <th></th>\n",
       "      <th>MODELYEAR</th>\n",
       "      <th>MAKE</th>\n",
       "      <th>MODEL</th>\n",
       "      <th>VEHICLECLASS</th>\n",
       "      <th>ENGINESIZE</th>\n",
       "      <th>CYLINDERS</th>\n",
       "      <th>TRANSMISSION</th>\n",
       "      <th>FUELTYPE</th>\n",
       "      <th>FUELCONSUMPTION_CITY</th>\n",
       "      <th>FUELCONSUMPTION_HWY</th>\n",
       "      <th>FUELCONSUMPTION_COMB</th>\n",
       "      <th>FUELCONSUMPTION_COMB_MPG</th>\n",
       "      <th>CO2EMISSIONS</th>\n",
       "    </tr>\n",
       "  </thead>\n",
       "  <tbody>\n",
       "    <tr>\n",
       "      <th>0</th>\n",
       "      <td>2014</td>\n",
       "      <td>ACURA</td>\n",
       "      <td>ILX</td>\n",
       "      <td>COMPACT</td>\n",
       "      <td>2.0</td>\n",
       "      <td>4</td>\n",
       "      <td>AS5</td>\n",
       "      <td>Z</td>\n",
       "      <td>9.9</td>\n",
       "      <td>6.7</td>\n",
       "      <td>8.5</td>\n",
       "      <td>33</td>\n",
       "      <td>196</td>\n",
       "    </tr>\n",
       "    <tr>\n",
       "      <th>1</th>\n",
       "      <td>2014</td>\n",
       "      <td>ACURA</td>\n",
       "      <td>ILX</td>\n",
       "      <td>COMPACT</td>\n",
       "      <td>2.4</td>\n",
       "      <td>4</td>\n",
       "      <td>M6</td>\n",
       "      <td>Z</td>\n",
       "      <td>11.2</td>\n",
       "      <td>7.7</td>\n",
       "      <td>9.6</td>\n",
       "      <td>29</td>\n",
       "      <td>221</td>\n",
       "    </tr>\n",
       "  </tbody>\n",
       "</table>\n",
       "</div>"
      ],
      "text/plain": [
       "   MODELYEAR   MAKE MODEL VEHICLECLASS  ENGINESIZE  CYLINDERS TRANSMISSION  \\\n",
       "0       2014  ACURA   ILX      COMPACT         2.0          4          AS5   \n",
       "1       2014  ACURA   ILX      COMPACT         2.4          4           M6   \n",
       "\n",
       "  FUELTYPE  FUELCONSUMPTION_CITY  FUELCONSUMPTION_HWY  FUELCONSUMPTION_COMB  \\\n",
       "0        Z                   9.9                  6.7                   8.5   \n",
       "1        Z                  11.2                  7.7                   9.6   \n",
       "\n",
       "   FUELCONSUMPTION_COMB_MPG  CO2EMISSIONS  \n",
       "0                        33           196  \n",
       "1                        29           221  "
      ]
     },
     "execution_count": 3,
     "metadata": {},
     "output_type": "execute_result"
    }
   ],
   "source": [
    "df = pd.read_csv('https://s3-api.us-geo.objectstorage.softlayer.net/cf-courses-data/CognitiveClass/ML0101ENv3/labs/FuelConsumptionCo2.csv')\n",
    "df.head(2)"
   ]
  },
  {
   "cell_type": "code",
   "execution_count": 4,
   "metadata": {},
   "outputs": [
    {
     "data": {
      "text/html": [
       "<div>\n",
       "<style scoped>\n",
       "    .dataframe tbody tr th:only-of-type {\n",
       "        vertical-align: middle;\n",
       "    }\n",
       "\n",
       "    .dataframe tbody tr th {\n",
       "        vertical-align: top;\n",
       "    }\n",
       "\n",
       "    .dataframe thead th {\n",
       "        text-align: right;\n",
       "    }\n",
       "</style>\n",
       "<table border=\"1\" class=\"dataframe\">\n",
       "  <thead>\n",
       "    <tr style=\"text-align: right;\">\n",
       "      <th></th>\n",
       "      <th>ENGINESIZE</th>\n",
       "      <th>CYLINDERS</th>\n",
       "      <th>FUELCONSUMPTION_COMB</th>\n",
       "      <th>CO2EMISSIONS</th>\n",
       "    </tr>\n",
       "  </thead>\n",
       "  <tbody>\n",
       "    <tr>\n",
       "      <th>0</th>\n",
       "      <td>2.0</td>\n",
       "      <td>4</td>\n",
       "      <td>8.5</td>\n",
       "      <td>196</td>\n",
       "    </tr>\n",
       "    <tr>\n",
       "      <th>1</th>\n",
       "      <td>2.4</td>\n",
       "      <td>4</td>\n",
       "      <td>9.6</td>\n",
       "      <td>221</td>\n",
       "    </tr>\n",
       "  </tbody>\n",
       "</table>\n",
       "</div>"
      ],
      "text/plain": [
       "   ENGINESIZE  CYLINDERS  FUELCONSUMPTION_COMB  CO2EMISSIONS\n",
       "0         2.0          4                   8.5           196\n",
       "1         2.4          4                   9.6           221"
      ]
     },
     "execution_count": 4,
     "metadata": {},
     "output_type": "execute_result"
    }
   ],
   "source": [
    "cdf = df[['ENGINESIZE','CYLINDERS','FUELCONSUMPTION_COMB','CO2EMISSIONS']]\n",
    "cdf.head(2)"
   ]
  },
  {
   "cell_type": "markdown",
   "metadata": {},
   "source": [
    "## Train/Test split using numpy"
   ]
  },
  {
   "cell_type": "code",
   "execution_count": 5,
   "metadata": {},
   "outputs": [],
   "source": [
    "msk = np.random.rand(len(df)) < 0.8\n",
    "train = cdf[msk]\n",
    "test = cdf[~msk]"
   ]
  },
  {
   "cell_type": "code",
   "execution_count": 6,
   "metadata": {
    "scrolled": true
   },
   "outputs": [
    {
     "name": "stdout",
     "output_type": "stream",
     "text": [
      "(854, 4) (213, 4)\n"
     ]
    }
   ],
   "source": [
    "print(train.shape, test.shape)"
   ]
  },
  {
   "cell_type": "markdown",
   "metadata": {},
   "source": [
    "## Model degree = 2"
   ]
  },
  {
   "cell_type": "code",
   "execution_count": 7,
   "metadata": {},
   "outputs": [
    {
     "data": {
      "text/plain": [
       "array([[ 1.  ,  2.  ,  4.  ],\n",
       "       [ 1.  ,  2.4 ,  5.76],\n",
       "       [ 1.  ,  1.5 ,  2.25],\n",
       "       ...,\n",
       "       [ 1.  ,  3.  ,  9.  ],\n",
       "       [ 1.  ,  3.2 , 10.24],\n",
       "       [ 1.  ,  3.2 , 10.24]])"
      ]
     },
     "execution_count": 7,
     "metadata": {},
     "output_type": "execute_result"
    }
   ],
   "source": [
    "from sklearn.preprocessing import PolynomialFeatures\n",
    "\n",
    "train_x = np.asanyarray(train[['ENGINESIZE']])\n",
    "train_y = np.asanyarray(train[['CO2EMISSIONS']])\n",
    "\n",
    "test_x = np.asanyarray(test[['ENGINESIZE']])\n",
    "test_y = np.asanyarray(test[['CO2EMISSIONS']])\n",
    "\n",
    "poly = PolynomialFeatures(degree=2)\n",
    "train_x_poly = poly.fit_transform(train_x)\n",
    "train_x_poly"
   ]
  },
  {
   "cell_type": "code",
   "execution_count": 8,
   "metadata": {},
   "outputs": [],
   "source": [
    "from sklearn.linear_model import LinearRegression"
   ]
  },
  {
   "cell_type": "code",
   "execution_count": 9,
   "metadata": {},
   "outputs": [],
   "source": [
    "lr = LinearRegression()"
   ]
  },
  {
   "cell_type": "code",
   "execution_count": 10,
   "metadata": {},
   "outputs": [
    {
     "data": {
      "text/plain": [
       "LinearRegression(copy_X=True, fit_intercept=True, n_jobs=None, normalize=False)"
      ]
     },
     "execution_count": 10,
     "metadata": {},
     "output_type": "execute_result"
    }
   ],
   "source": [
    "lr.fit(train_x_poly, train_y)"
   ]
  },
  {
   "cell_type": "code",
   "execution_count": 11,
   "metadata": {},
   "outputs": [
    {
     "data": {
      "text/plain": [
       "array([[ 0.        , 52.09890743, -1.68198851]])"
      ]
     },
     "execution_count": 11,
     "metadata": {},
     "output_type": "execute_result"
    }
   ],
   "source": [
    "lr.coef_"
   ]
  },
  {
   "cell_type": "code",
   "execution_count": 12,
   "metadata": {},
   "outputs": [
    {
     "data": {
      "text/plain": [
       "array([104.33832957])"
      ]
     },
     "execution_count": 12,
     "metadata": {},
     "output_type": "execute_result"
    }
   ],
   "source": [
    "lr.intercept_"
   ]
  },
  {
   "cell_type": "markdown",
   "metadata": {},
   "source": [
    "## Model visualization"
   ]
  },
  {
   "cell_type": "code",
   "execution_count": 13,
   "metadata": {},
   "outputs": [
    {
     "data": {
      "text/plain": [
       "Text(0, 0.5, 'Emission')"
      ]
     },
     "execution_count": 13,
     "metadata": {},
     "output_type": "execute_result"
    },
    {
     "data": {
      "image/png": "[encoded data removed]",
      "text/plain": [
       "<Figure size 720x720 with 1 Axes>"
      ]
     },
     "metadata": {
      "needs_background": "light"
     },
     "output_type": "display_data"
    }
   ],
   "source": [
    "plt.figure(figsize=(10, 10))\n",
    "plt.scatter(train.ENGINESIZE, train.CO2EMISSIONS,  color='blue')\n",
    "XX = np.arange(0.0, 10.0, 0.1)\n",
    "yy = lr.intercept_[0]+ lr.coef_[0][1]*XX+ lr.coef_[0][2]*np.power(XX, 2)\n",
    "plt.plot(XX, yy, '-r' )\n",
    "plt.xlabel(\"Engine size\")\n",
    "plt.ylabel(\"Emission\")"
   ]
  },
  {
   "cell_type": "markdown",
   "metadata": {},
   "source": [
    "## Model Evaluation"
   ]
  },
  {
   "cell_type": "code",
   "execution_count": 14,
   "metadata": {},
   "outputs": [
    {
     "data": {
      "text/plain": [
       "array([[ 1.  ,  3.7 , 13.69],\n",
       "       [ 1.  ,  2.4 ,  5.76],\n",
       "       [ 1.  ,  2.4 ,  5.76],\n",
       "       [ 1.  ,  4.7 , 22.09],\n",
       "       [ 1.  ,  2.  ,  4.  ],\n",
       "       [ 1.  ,  2.  ,  4.  ],\n",
       "       [ 1.  ,  2.  ,  4.  ],\n",
       "       [ 1.  ,  3.  ,  9.  ],\n",
       "       [ 1.  ,  3.  ,  9.  ],\n",
       "       [ 1.  ,  5.2 , 27.04],\n",
       "       [ 1.  ,  4.2 , 17.64],\n",
       "       [ 1.  ,  4.  , 16.  ],\n",
       "       [ 1.  ,  3.  ,  9.  ],\n",
       "       [ 1.  ,  6.  , 36.  ],\n",
       "       [ 1.  ,  6.8 , 46.24],\n",
       "       [ 1.  ,  2.  ,  4.  ],\n",
       "       [ 1.  ,  2.  ,  4.  ],\n",
       "       [ 1.  ,  2.  ,  4.  ],\n",
       "       [ 1.  ,  3.  ,  9.  ],\n",
       "       [ 1.  ,  3.  ,  9.  ],\n",
       "       [ 1.  ,  4.4 , 19.36],\n",
       "       [ 1.  ,  3.  ,  9.  ],\n",
       "       [ 1.  ,  4.4 , 19.36],\n",
       "       [ 1.  ,  6.  , 36.  ],\n",
       "       [ 1.  ,  4.4 , 19.36],\n",
       "       [ 1.  ,  4.4 , 19.36],\n",
       "       [ 1.  ,  4.4 , 19.36],\n",
       "       [ 1.  ,  3.  ,  9.  ],\n",
       "       [ 1.  ,  2.  ,  4.  ],\n",
       "       [ 1.  ,  3.  ,  9.  ],\n",
       "       [ 1.  ,  3.  ,  9.  ],\n",
       "       [ 1.  ,  3.6 , 12.96],\n",
       "       [ 1.  ,  3.6 , 12.96],\n",
       "       [ 1.  ,  3.6 , 12.96],\n",
       "       [ 1.  ,  3.6 , 12.96],\n",
       "       [ 1.  ,  2.  ,  4.  ],\n",
       "       [ 1.  ,  6.2 , 38.44],\n",
       "       [ 1.  ,  6.2 , 38.44],\n",
       "       [ 1.  ,  3.6 , 12.96],\n",
       "       [ 1.  ,  6.2 , 38.44],\n",
       "       [ 1.  ,  6.2 , 38.44],\n",
       "       [ 1.  ,  6.2 , 38.44],\n",
       "       [ 1.  ,  2.4 ,  5.76],\n",
       "       [ 1.  ,  4.3 , 18.49],\n",
       "       [ 1.  ,  5.3 , 28.09],\n",
       "       [ 1.  ,  5.3 , 28.09],\n",
       "       [ 1.  ,  6.  , 36.  ],\n",
       "       [ 1.  ,  3.6 , 12.96],\n",
       "       [ 1.  ,  2.  ,  4.  ],\n",
       "       [ 1.  ,  2.5 ,  6.25],\n",
       "       [ 1.  ,  4.3 , 18.49],\n",
       "       [ 1.  ,  4.3 , 18.49],\n",
       "       [ 1.  ,  5.3 , 28.09],\n",
       "       [ 1.  ,  5.3 , 28.09],\n",
       "       [ 1.  ,  1.4 ,  1.96],\n",
       "       [ 1.  ,  1.4 ,  1.96],\n",
       "       [ 1.  ,  5.3 , 28.09],\n",
       "       [ 1.  ,  5.3 , 28.09],\n",
       "       [ 1.  ,  3.6 , 12.96],\n",
       "       [ 1.  ,  2.4 ,  5.76],\n",
       "       [ 1.  ,  2.4 ,  5.76],\n",
       "       [ 1.  ,  5.7 , 32.49],\n",
       "       [ 1.  ,  3.6 , 12.96],\n",
       "       [ 1.  ,  3.6 , 12.96],\n",
       "       [ 1.  ,  3.6 , 12.96],\n",
       "       [ 1.  ,  3.6 , 12.96],\n",
       "       [ 1.  ,  3.6 , 12.96],\n",
       "       [ 1.  ,  6.4 , 40.96],\n",
       "       [ 1.  ,  2.4 ,  5.76],\n",
       "       [ 1.  ,  1.4 ,  1.96],\n",
       "       [ 1.  ,  3.6 , 12.96],\n",
       "       [ 1.  ,  3.6 , 12.96],\n",
       "       [ 1.  ,  1.4 ,  1.96],\n",
       "       [ 1.  ,  2.  ,  4.  ],\n",
       "       [ 1.  ,  3.7 , 13.69],\n",
       "       [ 1.  ,  5.  , 25.  ],\n",
       "       [ 1.  ,  5.  , 25.  ],\n",
       "       [ 1.  ,  6.2 , 38.44],\n",
       "       [ 1.  ,  2.  ,  4.  ],\n",
       "       [ 1.  ,  2.  ,  4.  ],\n",
       "       [ 1.  ,  2.5 ,  6.25],\n",
       "       [ 1.  ,  3.6 , 12.96],\n",
       "       [ 1.  ,  3.6 , 12.96],\n",
       "       [ 1.  ,  5.3 , 28.09],\n",
       "       [ 1.  ,  5.3 , 28.09],\n",
       "       [ 1.  ,  5.3 , 28.09],\n",
       "       [ 1.  ,  4.8 , 23.04],\n",
       "       [ 1.  ,  6.  , 36.  ],\n",
       "       [ 1.  ,  5.3 , 28.09],\n",
       "       [ 1.  ,  2.4 ,  5.76],\n",
       "       [ 1.  ,  5.3 , 28.09],\n",
       "       [ 1.  ,  5.3 , 28.09],\n",
       "       [ 1.  ,  5.3 , 28.09],\n",
       "       [ 1.  ,  3.5 , 12.25],\n",
       "       [ 1.  ,  1.8 ,  3.24],\n",
       "       [ 1.  ,  1.5 ,  2.25],\n",
       "       [ 1.  ,  2.  ,  4.  ],\n",
       "       [ 1.  ,  3.8 , 14.44],\n",
       "       [ 1.  ,  3.3 , 10.89],\n",
       "       [ 1.  ,  2.  ,  4.  ],\n",
       "       [ 1.  ,  2.4 ,  5.76],\n",
       "       [ 1.  ,  1.6 ,  2.56],\n",
       "       [ 1.  ,  3.7 , 13.69],\n",
       "       [ 1.  ,  3.5 , 12.25],\n",
       "       [ 1.  ,  5.6 , 31.36],\n",
       "       [ 1.  ,  5.  , 25.  ],\n",
       "       [ 1.  ,  3.  ,  9.  ],\n",
       "       [ 1.  ,  5.  , 25.  ],\n",
       "       [ 1.  ,  5.  , 25.  ],\n",
       "       [ 1.  ,  5.  , 25.  ],\n",
       "       [ 1.  ,  5.  , 25.  ],\n",
       "       [ 1.  ,  5.  , 25.  ],\n",
       "       [ 1.  ,  5.  , 25.  ],\n",
       "       [ 1.  ,  2.4 ,  5.76],\n",
       "       [ 1.  ,  3.2 , 10.24],\n",
       "       [ 1.  ,  2.  ,  4.  ],\n",
       "       [ 1.  ,  2.4 ,  5.76],\n",
       "       [ 1.  ,  3.6 , 12.96],\n",
       "       [ 1.  ,  3.6 , 12.96],\n",
       "       [ 1.  ,  3.3 , 10.89],\n",
       "       [ 1.  ,  2.  ,  4.  ],\n",
       "       [ 1.  ,  1.6 ,  2.56],\n",
       "       [ 1.  ,  2.  ,  4.  ],\n",
       "       [ 1.  ,  1.6 ,  2.56],\n",
       "       [ 1.  ,  1.6 ,  2.56],\n",
       "       [ 1.  ,  2.4 ,  5.76],\n",
       "       [ 1.  ,  1.6 ,  2.56],\n",
       "       [ 1.  ,  3.  ,  9.  ],\n",
       "       [ 1.  ,  5.  , 25.  ],\n",
       "       [ 1.  ,  3.5 , 12.25],\n",
       "       [ 1.  ,  2.5 ,  6.25],\n",
       "       [ 1.  ,  3.5 , 12.25],\n",
       "       [ 1.  ,  3.5 , 12.25],\n",
       "       [ 1.  ,  3.5 , 12.25],\n",
       "       [ 1.  ,  2.  ,  4.  ],\n",
       "       [ 1.  ,  2.5 ,  6.25],\n",
       "       [ 1.  ,  2.5 ,  6.25],\n",
       "       [ 1.  ,  1.8 ,  3.24],\n",
       "       [ 1.  ,  6.2 , 38.44],\n",
       "       [ 1.  ,  2.  ,  4.  ],\n",
       "       [ 1.  ,  4.7 , 22.09],\n",
       "       [ 1.  ,  3.5 , 12.25],\n",
       "       [ 1.  ,  4.7 , 22.09],\n",
       "       [ 1.  ,  4.7 , 22.09],\n",
       "       [ 1.  ,  4.7 , 22.09],\n",
       "       [ 1.  ,  5.5 , 30.25],\n",
       "       [ 1.  ,  5.5 , 30.25],\n",
       "       [ 1.  ,  5.5 , 30.25],\n",
       "       [ 1.  ,  2.1 ,  4.41],\n",
       "       [ 1.  ,  3.5 , 12.25],\n",
       "       [ 1.  ,  5.5 , 30.25],\n",
       "       [ 1.  ,  6.  , 36.  ],\n",
       "       [ 1.  ,  1.6 ,  2.56],\n",
       "       [ 1.  ,  1.6 ,  2.56],\n",
       "       [ 1.  ,  1.6 ,  2.56],\n",
       "       [ 1.  ,  1.6 ,  2.56],\n",
       "       [ 1.  ,  1.6 ,  2.56],\n",
       "       [ 1.  ,  1.6 ,  2.56],\n",
       "       [ 1.  ,  1.6 ,  2.56],\n",
       "       [ 1.  ,  1.6 ,  2.56],\n",
       "       [ 1.  ,  1.6 ,  2.56],\n",
       "       [ 1.  ,  1.6 ,  2.56],\n",
       "       [ 1.  ,  1.6 ,  2.56],\n",
       "       [ 1.  ,  1.6 ,  2.56],\n",
       "       [ 1.  ,  1.6 ,  2.56],\n",
       "       [ 1.  ,  2.  ,  4.  ],\n",
       "       [ 1.  ,  2.  ,  4.  ],\n",
       "       [ 1.  ,  3.  ,  9.  ],\n",
       "       [ 1.  ,  3.7 , 13.69],\n",
       "       [ 1.  ,  4.  , 16.  ],\n",
       "       [ 1.  ,  1.6 ,  2.56],\n",
       "       [ 1.  ,  3.5 , 12.25],\n",
       "       [ 1.  ,  3.8 , 14.44],\n",
       "       [ 1.  ,  3.8 , 14.44],\n",
       "       [ 1.  ,  3.8 , 14.44],\n",
       "       [ 1.  ,  3.8 , 14.44],\n",
       "       [ 1.  ,  3.8 , 14.44],\n",
       "       [ 1.  ,  3.8 , 14.44],\n",
       "       [ 1.  ,  4.8 , 23.04],\n",
       "       [ 1.  ,  5.7 , 32.49],\n",
       "       [ 1.  ,  3.  ,  9.  ],\n",
       "       [ 1.  ,  3.6 , 12.96],\n",
       "       [ 1.  ,  3.  ,  9.  ],\n",
       "       [ 1.  ,  6.6 , 43.56],\n",
       "       [ 1.  ,  6.7 , 44.89],\n",
       "       [ 1.  ,  6.7 , 44.89],\n",
       "       [ 1.  ,  2.  ,  4.  ],\n",
       "       [ 1.  ,  2.5 ,  6.25],\n",
       "       [ 1.  ,  2.5 ,  6.25],\n",
       "       [ 1.  ,  2.5 ,  6.25],\n",
       "       [ 1.  ,  2.  ,  4.  ],\n",
       "       [ 1.  ,  2.5 ,  6.25],\n",
       "       [ 1.  ,  2.5 ,  6.25],\n",
       "       [ 1.  ,  3.6 , 12.96],\n",
       "       [ 1.  ,  1.8 ,  3.24],\n",
       "       [ 1.  ,  1.8 ,  3.24],\n",
       "       [ 1.  ,  1.8 ,  3.24],\n",
       "       [ 1.  ,  3.5 , 12.25],\n",
       "       [ 1.  ,  1.8 ,  3.24],\n",
       "       [ 1.  ,  1.8 ,  3.24],\n",
       "       [ 1.  ,  2.5 ,  6.25],\n",
       "       [ 1.  ,  4.  , 16.  ],\n",
       "       [ 1.  ,  2.7 ,  7.29],\n",
       "       [ 1.  ,  4.  , 16.  ],\n",
       "       [ 1.  ,  5.7 , 32.49],\n",
       "       [ 1.  ,  3.5 , 12.25],\n",
       "       [ 1.  ,  1.8 ,  3.24],\n",
       "       [ 1.  ,  2.5 ,  6.25],\n",
       "       [ 1.  ,  2.  ,  4.  ],\n",
       "       [ 1.  ,  3.6 , 12.96],\n",
       "       [ 1.  ,  3.  ,  9.  ],\n",
       "       [ 1.  ,  3.2 , 10.24],\n",
       "       [ 1.  ,  3.  ,  9.  ]])"
      ]
     },
     "execution_count": 14,
     "metadata": {},
     "output_type": "execute_result"
    }
   ],
   "source": [
    "test_x_poly = poly.fit_transform(test_x)\n",
    "test_x_poly"
   ]
  },
  {
   "cell_type": "code",
   "execution_count": 15,
   "metadata": {
    "scrolled": true
   },
   "outputs": [
    {
     "data": {
      "text/plain": [
       "0.7625236718627844"
      ]
     },
     "execution_count": 15,
     "metadata": {},
     "output_type": "execute_result"
    }
   ],
   "source": [
    "#R^2\n",
    "lr.score(test_x_poly, test_y)"
   ]
  },
  {
   "cell_type": "code",
   "execution_count": 16,
   "metadata": {},
   "outputs": [],
   "source": [
    "yhat = lr.predict(test_x_poly)"
   ]
  },
  {
   "cell_type": "code",
   "execution_count": 17,
   "metadata": {},
   "outputs": [],
   "source": [
    "from sklearn.metrics import mean_squared_error"
   ]
  },
  {
   "cell_type": "code",
   "execution_count": 18,
   "metadata": {},
   "outputs": [
    {
     "name": "stdout",
     "output_type": "stream",
     "text": [
      "936.8151110775196\n"
     ]
    }
   ],
   "source": [
    "# Mean square error\n",
    "mse = mean_squared_error(test_y, yhat)\n",
    "print(mse)"
   ]
  },
  {
   "cell_type": "markdown",
   "metadata": {},
   "source": [
    "## Model degree = 3"
   ]
  },
  {
   "cell_type": "code",
   "execution_count": 19,
   "metadata": {},
   "outputs": [
    {
     "data": {
      "text/plain": [
       "array([[ 1.   ,  2.   ,  4.   ,  8.   ],\n",
       "       [ 1.   ,  2.4  ,  5.76 , 13.824],\n",
       "       [ 1.   ,  1.5  ,  2.25 ,  3.375],\n",
       "       ...,\n",
       "       [ 1.   ,  3.   ,  9.   , 27.   ],\n",
       "       [ 1.   ,  3.2  , 10.24 , 32.768],\n",
       "       [ 1.   ,  3.2  , 10.24 , 32.768]])"
      ]
     },
     "execution_count": 19,
     "metadata": {},
     "output_type": "execute_result"
    }
   ],
   "source": [
    "poly3 = PolynomialFeatures(degree=3)\n",
    "train_x_poly3 = poly3.fit_transform(train_x)\n",
    "train_x_poly3"
   ]
  },
  {
   "cell_type": "code",
   "execution_count": 20,
   "metadata": {},
   "outputs": [
    {
     "data": {
      "text/plain": [
       "LinearRegression(copy_X=True, fit_intercept=True, n_jobs=None, normalize=False)"
      ]
     },
     "execution_count": 20,
     "metadata": {},
     "output_type": "execute_result"
    }
   ],
   "source": [
    "lr.fit(train_x_poly3, train_y)"
   ]
  },
  {
   "cell_type": "code",
   "execution_count": 21,
   "metadata": {},
   "outputs": [
    {
     "data": {
      "text/plain": [
       "array([[ 0.        , 25.09151749,  5.74852493, -0.6146458 ]])"
      ]
     },
     "execution_count": 21,
     "metadata": {},
     "output_type": "execute_result"
    }
   ],
   "source": [
    "lr.coef_"
   ]
  },
  {
   "cell_type": "code",
   "execution_count": 22,
   "metadata": {},
   "outputs": [
    {
     "data": {
      "text/plain": [
       "array([133.03192658])"
      ]
     },
     "execution_count": 22,
     "metadata": {},
     "output_type": "execute_result"
    }
   ],
   "source": [
    "lr.intercept_"
   ]
  },
  {
   "cell_type": "markdown",
   "metadata": {},
   "source": [
    "## Model visualization"
   ]
  },
  {
   "cell_type": "code",
   "execution_count": 23,
   "metadata": {},
   "outputs": [
    {
     "data": {
      "text/plain": [
       "Text(0, 0.5, 'Emission')"
      ]
     },
     "execution_count": 23,
     "metadata": {},
     "output_type": "execute_result"
    },
    {
     "data": {
      "image/png": "[encoded data removed]",
      "text/plain": [
       "<Figure size 720x720 with 1 Axes>"
      ]
     },
     "metadata": {
      "needs_background": "light"
     },
     "output_type": "display_data"
    }
   ],
   "source": [
    "plt.figure(figsize=(10, 10))\n",
    "plt.scatter(train.ENGINESIZE, train.CO2EMISSIONS,  color='blue')\n",
    "XX = np.arange(0.0, 10.0, 0.1)\n",
    "yy = lr.intercept_[0]+ lr.coef_[0][1]*XX+ lr.coef_[0][2]*np.power(XX, 2)+ lr.coef_[0][3]*np.power(XX, 3)\n",
    "plt.plot(XX, yy, '-r' )\n",
    "plt.xlabel(\"Engine size\")\n",
    "plt.ylabel(\"Emission\")"
   ]
  },
  {
   "cell_type": "markdown",
   "metadata": {},
   "source": [
    "## Model evaluation"
   ]
  },
  {
   "cell_type": "code",
   "execution_count": 24,
   "metadata": {},
   "outputs": [
    {
     "data": {
      "text/plain": [
       "array([[  1.   ,   3.7  ,  13.69 ,  50.653],\n",
       "       [  1.   ,   2.4  ,   5.76 ,  13.824],\n",
       "       [  1.   ,   2.4  ,   5.76 ,  13.824],\n",
       "       [  1.   ,   4.7  ,  22.09 , 103.823],\n",
       "       [  1.   ,   2.   ,   4.   ,   8.   ],\n",
       "       [  1.   ,   2.   ,   4.   ,   8.   ],\n",
       "       [  1.   ,   2.   ,   4.   ,   8.   ],\n",
       "       [  1.   ,   3.   ,   9.   ,  27.   ],\n",
       "       [  1.   ,   3.   ,   9.   ,  27.   ],\n",
       "       [  1.   ,   5.2  ,  27.04 , 140.608],\n",
       "       [  1.   ,   4.2  ,  17.64 ,  74.088],\n",
       "       [  1.   ,   4.   ,  16.   ,  64.   ],\n",
       "       [  1.   ,   3.   ,   9.   ,  27.   ],\n",
       "       [  1.   ,   6.   ,  36.   , 216.   ],\n",
       "       [  1.   ,   6.8  ,  46.24 , 314.432],\n",
       "       [  1.   ,   2.   ,   4.   ,   8.   ],\n",
       "       [  1.   ,   2.   ,   4.   ,   8.   ],\n",
       "       [  1.   ,   2.   ,   4.   ,   8.   ],\n",
       "       [  1.   ,   3.   ,   9.   ,  27.   ],\n",
       "       [  1.   ,   3.   ,   9.   ,  27.   ],\n",
       "       [  1.   ,   4.4  ,  19.36 ,  85.184],\n",
       "       [  1.   ,   3.   ,   9.   ,  27.   ],\n",
       "       [  1.   ,   4.4  ,  19.36 ,  85.184],\n",
       "       [  1.   ,   6.   ,  36.   , 216.   ],\n",
       "       [  1.   ,   4.4  ,  19.36 ,  85.184],\n",
       "       [  1.   ,   4.4  ,  19.36 ,  85.184],\n",
       "       [  1.   ,   4.4  ,  19.36 ,  85.184],\n",
       "       [  1.   ,   3.   ,   9.   ,  27.   ],\n",
       "       [  1.   ,   2.   ,   4.   ,   8.   ],\n",
       "       [  1.   ,   3.   ,   9.   ,  27.   ],\n",
       "       [  1.   ,   3.   ,   9.   ,  27.   ],\n",
       "       [  1.   ,   3.6  ,  12.96 ,  46.656],\n",
       "       [  1.   ,   3.6  ,  12.96 ,  46.656],\n",
       "       [  1.   ,   3.6  ,  12.96 ,  46.656],\n",
       "       [  1.   ,   3.6  ,  12.96 ,  46.656],\n",
       "       [  1.   ,   2.   ,   4.   ,   8.   ],\n",
       "       [  1.   ,   6.2  ,  38.44 , 238.328],\n",
       "       [  1.   ,   6.2  ,  38.44 , 238.328],\n",
       "       [  1.   ,   3.6  ,  12.96 ,  46.656],\n",
       "       [  1.   ,   6.2  ,  38.44 , 238.328],\n",
       "       [  1.   ,   6.2  ,  38.44 , 238.328],\n",
       "       [  1.   ,   6.2  ,  38.44 , 238.328],\n",
       "       [  1.   ,   2.4  ,   5.76 ,  13.824],\n",
       "       [  1.   ,   4.3  ,  18.49 ,  79.507],\n",
       "       [  1.   ,   5.3  ,  28.09 , 148.877],\n",
       "       [  1.   ,   5.3  ,  28.09 , 148.877],\n",
       "       [  1.   ,   6.   ,  36.   , 216.   ],\n",
       "       [  1.   ,   3.6  ,  12.96 ,  46.656],\n",
       "       [  1.   ,   2.   ,   4.   ,   8.   ],\n",
       "       [  1.   ,   2.5  ,   6.25 ,  15.625],\n",
       "       [  1.   ,   4.3  ,  18.49 ,  79.507],\n",
       "       [  1.   ,   4.3  ,  18.49 ,  79.507],\n",
       "       [  1.   ,   5.3  ,  28.09 , 148.877],\n",
       "       [  1.   ,   5.3  ,  28.09 , 148.877],\n",
       "       [  1.   ,   1.4  ,   1.96 ,   2.744],\n",
       "       [  1.   ,   1.4  ,   1.96 ,   2.744],\n",
       "       [  1.   ,   5.3  ,  28.09 , 148.877],\n",
       "       [  1.   ,   5.3  ,  28.09 , 148.877],\n",
       "       [  1.   ,   3.6  ,  12.96 ,  46.656],\n",
       "       [  1.   ,   2.4  ,   5.76 ,  13.824],\n",
       "       [  1.   ,   2.4  ,   5.76 ,  13.824],\n",
       "       [  1.   ,   5.7  ,  32.49 , 185.193],\n",
       "       [  1.   ,   3.6  ,  12.96 ,  46.656],\n",
       "       [  1.   ,   3.6  ,  12.96 ,  46.656],\n",
       "       [  1.   ,   3.6  ,  12.96 ,  46.656],\n",
       "       [  1.   ,   3.6  ,  12.96 ,  46.656],\n",
       "       [  1.   ,   3.6  ,  12.96 ,  46.656],\n",
       "       [  1.   ,   6.4  ,  40.96 , 262.144],\n",
       "       [  1.   ,   2.4  ,   5.76 ,  13.824],\n",
       "       [  1.   ,   1.4  ,   1.96 ,   2.744],\n",
       "       [  1.   ,   3.6  ,  12.96 ,  46.656],\n",
       "       [  1.   ,   3.6  ,  12.96 ,  46.656],\n",
       "       [  1.   ,   1.4  ,   1.96 ,   2.744],\n",
       "       [  1.   ,   2.   ,   4.   ,   8.   ],\n",
       "       [  1.   ,   3.7  ,  13.69 ,  50.653],\n",
       "       [  1.   ,   5.   ,  25.   , 125.   ],\n",
       "       [  1.   ,   5.   ,  25.   , 125.   ],\n",
       "       [  1.   ,   6.2  ,  38.44 , 238.328],\n",
       "       [  1.   ,   2.   ,   4.   ,   8.   ],\n",
       "       [  1.   ,   2.   ,   4.   ,   8.   ],\n",
       "       [  1.   ,   2.5  ,   6.25 ,  15.625],\n",
       "       [  1.   ,   3.6  ,  12.96 ,  46.656],\n",
       "       [  1.   ,   3.6  ,  12.96 ,  46.656],\n",
       "       [  1.   ,   5.3  ,  28.09 , 148.877],\n",
       "       [  1.   ,   5.3  ,  28.09 , 148.877],\n",
       "       [  1.   ,   5.3  ,  28.09 , 148.877],\n",
       "       [  1.   ,   4.8  ,  23.04 , 110.592],\n",
       "       [  1.   ,   6.   ,  36.   , 216.   ],\n",
       "       [  1.   ,   5.3  ,  28.09 , 148.877],\n",
       "       [  1.   ,   2.4  ,   5.76 ,  13.824],\n",
       "       [  1.   ,   5.3  ,  28.09 , 148.877],\n",
       "       [  1.   ,   5.3  ,  28.09 , 148.877],\n",
       "       [  1.   ,   5.3  ,  28.09 , 148.877],\n",
       "       [  1.   ,   3.5  ,  12.25 ,  42.875],\n",
       "       [  1.   ,   1.8  ,   3.24 ,   5.832],\n",
       "       [  1.   ,   1.5  ,   2.25 ,   3.375],\n",
       "       [  1.   ,   2.   ,   4.   ,   8.   ],\n",
       "       [  1.   ,   3.8  ,  14.44 ,  54.872],\n",
       "       [  1.   ,   3.3  ,  10.89 ,  35.937],\n",
       "       [  1.   ,   2.   ,   4.   ,   8.   ],\n",
       "       [  1.   ,   2.4  ,   5.76 ,  13.824],\n",
       "       [  1.   ,   1.6  ,   2.56 ,   4.096],\n",
       "       [  1.   ,   3.7  ,  13.69 ,  50.653],\n",
       "       [  1.   ,   3.5  ,  12.25 ,  42.875],\n",
       "       [  1.   ,   5.6  ,  31.36 , 175.616],\n",
       "       [  1.   ,   5.   ,  25.   , 125.   ],\n",
       "       [  1.   ,   3.   ,   9.   ,  27.   ],\n",
       "       [  1.   ,   5.   ,  25.   , 125.   ],\n",
       "       [  1.   ,   5.   ,  25.   , 125.   ],\n",
       "       [  1.   ,   5.   ,  25.   , 125.   ],\n",
       "       [  1.   ,   5.   ,  25.   , 125.   ],\n",
       "       [  1.   ,   5.   ,  25.   , 125.   ],\n",
       "       [  1.   ,   5.   ,  25.   , 125.   ],\n",
       "       [  1.   ,   2.4  ,   5.76 ,  13.824],\n",
       "       [  1.   ,   3.2  ,  10.24 ,  32.768],\n",
       "       [  1.   ,   2.   ,   4.   ,   8.   ],\n",
       "       [  1.   ,   2.4  ,   5.76 ,  13.824],\n",
       "       [  1.   ,   3.6  ,  12.96 ,  46.656],\n",
       "       [  1.   ,   3.6  ,  12.96 ,  46.656],\n",
       "       [  1.   ,   3.3  ,  10.89 ,  35.937],\n",
       "       [  1.   ,   2.   ,   4.   ,   8.   ],\n",
       "       [  1.   ,   1.6  ,   2.56 ,   4.096],\n",
       "       [  1.   ,   2.   ,   4.   ,   8.   ],\n",
       "       [  1.   ,   1.6  ,   2.56 ,   4.096],\n",
       "       [  1.   ,   1.6  ,   2.56 ,   4.096],\n",
       "       [  1.   ,   2.4  ,   5.76 ,  13.824],\n",
       "       [  1.   ,   1.6  ,   2.56 ,   4.096],\n",
       "       [  1.   ,   3.   ,   9.   ,  27.   ],\n",
       "       [  1.   ,   5.   ,  25.   , 125.   ],\n",
       "       [  1.   ,   3.5  ,  12.25 ,  42.875],\n",
       "       [  1.   ,   2.5  ,   6.25 ,  15.625],\n",
       "       [  1.   ,   3.5  ,  12.25 ,  42.875],\n",
       "       [  1.   ,   3.5  ,  12.25 ,  42.875],\n",
       "       [  1.   ,   3.5  ,  12.25 ,  42.875],\n",
       "       [  1.   ,   2.   ,   4.   ,   8.   ],\n",
       "       [  1.   ,   2.5  ,   6.25 ,  15.625],\n",
       "       [  1.   ,   2.5  ,   6.25 ,  15.625],\n",
       "       [  1.   ,   1.8  ,   3.24 ,   5.832],\n",
       "       [  1.   ,   6.2  ,  38.44 , 238.328],\n",
       "       [  1.   ,   2.   ,   4.   ,   8.   ],\n",
       "       [  1.   ,   4.7  ,  22.09 , 103.823],\n",
       "       [  1.   ,   3.5  ,  12.25 ,  42.875],\n",
       "       [  1.   ,   4.7  ,  22.09 , 103.823],\n",
       "       [  1.   ,   4.7  ,  22.09 , 103.823],\n",
       "       [  1.   ,   4.7  ,  22.09 , 103.823],\n",
       "       [  1.   ,   5.5  ,  30.25 , 166.375],\n",
       "       [  1.   ,   5.5  ,  30.25 , 166.375],\n",
       "       [  1.   ,   5.5  ,  30.25 , 166.375],\n",
       "       [  1.   ,   2.1  ,   4.41 ,   9.261],\n",
       "       [  1.   ,   3.5  ,  12.25 ,  42.875],\n",
       "       [  1.   ,   5.5  ,  30.25 , 166.375],\n",
       "       [  1.   ,   6.   ,  36.   , 216.   ],\n",
       "       [  1.   ,   1.6  ,   2.56 ,   4.096],\n",
       "       [  1.   ,   1.6  ,   2.56 ,   4.096],\n",
       "       [  1.   ,   1.6  ,   2.56 ,   4.096],\n",
       "       [  1.   ,   1.6  ,   2.56 ,   4.096],\n",
       "       [  1.   ,   1.6  ,   2.56 ,   4.096],\n",
       "       [  1.   ,   1.6  ,   2.56 ,   4.096],\n",
       "       [  1.   ,   1.6  ,   2.56 ,   4.096],\n",
       "       [  1.   ,   1.6  ,   2.56 ,   4.096],\n",
       "       [  1.   ,   1.6  ,   2.56 ,   4.096],\n",
       "       [  1.   ,   1.6  ,   2.56 ,   4.096],\n",
       "       [  1.   ,   1.6  ,   2.56 ,   4.096],\n",
       "       [  1.   ,   1.6  ,   2.56 ,   4.096],\n",
       "       [  1.   ,   1.6  ,   2.56 ,   4.096],\n",
       "       [  1.   ,   2.   ,   4.   ,   8.   ],\n",
       "       [  1.   ,   2.   ,   4.   ,   8.   ],\n",
       "       [  1.   ,   3.   ,   9.   ,  27.   ],\n",
       "       [  1.   ,   3.7  ,  13.69 ,  50.653],\n",
       "       [  1.   ,   4.   ,  16.   ,  64.   ],\n",
       "       [  1.   ,   1.6  ,   2.56 ,   4.096],\n",
       "       [  1.   ,   3.5  ,  12.25 ,  42.875],\n",
       "       [  1.   ,   3.8  ,  14.44 ,  54.872],\n",
       "       [  1.   ,   3.8  ,  14.44 ,  54.872],\n",
       "       [  1.   ,   3.8  ,  14.44 ,  54.872],\n",
       "       [  1.   ,   3.8  ,  14.44 ,  54.872],\n",
       "       [  1.   ,   3.8  ,  14.44 ,  54.872],\n",
       "       [  1.   ,   3.8  ,  14.44 ,  54.872],\n",
       "       [  1.   ,   4.8  ,  23.04 , 110.592],\n",
       "       [  1.   ,   5.7  ,  32.49 , 185.193],\n",
       "       [  1.   ,   3.   ,   9.   ,  27.   ],\n",
       "       [  1.   ,   3.6  ,  12.96 ,  46.656],\n",
       "       [  1.   ,   3.   ,   9.   ,  27.   ],\n",
       "       [  1.   ,   6.6  ,  43.56 , 287.496],\n",
       "       [  1.   ,   6.7  ,  44.89 , 300.763],\n",
       "       [  1.   ,   6.7  ,  44.89 , 300.763],\n",
       "       [  1.   ,   2.   ,   4.   ,   8.   ],\n",
       "       [  1.   ,   2.5  ,   6.25 ,  15.625],\n",
       "       [  1.   ,   2.5  ,   6.25 ,  15.625],\n",
       "       [  1.   ,   2.5  ,   6.25 ,  15.625],\n",
       "       [  1.   ,   2.   ,   4.   ,   8.   ],\n",
       "       [  1.   ,   2.5  ,   6.25 ,  15.625],\n",
       "       [  1.   ,   2.5  ,   6.25 ,  15.625],\n",
       "       [  1.   ,   3.6  ,  12.96 ,  46.656],\n",
       "       [  1.   ,   1.8  ,   3.24 ,   5.832],\n",
       "       [  1.   ,   1.8  ,   3.24 ,   5.832],\n",
       "       [  1.   ,   1.8  ,   3.24 ,   5.832],\n",
       "       [  1.   ,   3.5  ,  12.25 ,  42.875],\n",
       "       [  1.   ,   1.8  ,   3.24 ,   5.832],\n",
       "       [  1.   ,   1.8  ,   3.24 ,   5.832],\n",
       "       [  1.   ,   2.5  ,   6.25 ,  15.625],\n",
       "       [  1.   ,   4.   ,  16.   ,  64.   ],\n",
       "       [  1.   ,   2.7  ,   7.29 ,  19.683],\n",
       "       [  1.   ,   4.   ,  16.   ,  64.   ],\n",
       "       [  1.   ,   5.7  ,  32.49 , 185.193],\n",
       "       [  1.   ,   3.5  ,  12.25 ,  42.875],\n",
       "       [  1.   ,   1.8  ,   3.24 ,   5.832],\n",
       "       [  1.   ,   2.5  ,   6.25 ,  15.625],\n",
       "       [  1.   ,   2.   ,   4.   ,   8.   ],\n",
       "       [  1.   ,   3.6  ,  12.96 ,  46.656],\n",
       "       [  1.   ,   3.   ,   9.   ,  27.   ],\n",
       "       [  1.   ,   3.2  ,  10.24 ,  32.768],\n",
       "       [  1.   ,   3.   ,   9.   ,  27.   ]])"
      ]
     },
     "execution_count": 24,
     "metadata": {},
     "output_type": "execute_result"
    }
   ],
   "source": [
    "test_x_poly3 = poly3.fit_transform(test_x)\n",
    "test_x_poly3"
   ]
  },
  {
   "cell_type": "code",
   "execution_count": 29,
   "metadata": {},
   "outputs": [
    {
     "data": {
      "text/plain": [
       "0.7599453102187163"
      ]
     },
     "execution_count": 29,
     "metadata": {},
     "output_type": "execute_result"
    }
   ],
   "source": [
    "#R^2\n",
    "lr.score(test_x_poly3, test_y)"
   ]
  },
  {
   "cell_type": "code",
   "execution_count": 26,
   "metadata": {},
   "outputs": [],
   "source": [
    "yhat1 = lr.predict(test_x_poly3)"
   ]
  },
  {
   "cell_type": "code",
   "execution_count": 30,
   "metadata": {},
   "outputs": [
    {
     "name": "stdout",
     "output_type": "stream",
     "text": [
      "946.9864328632849\n"
     ]
    }
   ],
   "source": [
    "#Mean squared error\n",
    "mse = mean_squared_error(test_y, yhat1)\n",
    "print(mse)"
   ]
  }
 ],
 "metadata": {
  "kernelspec": {
   "display_name": "Python 3",
   "language": "python",
   "name": "python3"
  },
  "language_info": {
   "codemirror_mode": {
    "name": "ipython",
    "version": 3
   },
   "file_extension": ".py",
   "mimetype": "text/x-python",
   "name": "python",
   "nbconvert_exporter": "python",
   "pygments_lexer": "ipython3",
   "version": "3.7.5"
  }
 },
 "nbformat": 4,
 "nbformat_minor": 2
}
